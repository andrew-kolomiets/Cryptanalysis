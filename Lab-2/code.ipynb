{
 "cells": [
  {
   "cell_type": "code",
   "execution_count": 1,
   "metadata": {},
   "outputs": [],
   "source": [
    "import re\n",
    "import string\n",
    "import pandas as pd\n",
    "import numpy as np"
   ]
  },
  {
   "cell_type": "code",
   "execution_count": 2,
   "metadata": {},
   "outputs": [],
   "source": [
    "alphabet=['а','б','в','г','ґ','д','е','є','ж','з','и','і','ї','й','к','л','м','н','о','п','р','с','т','у','ф','х','ц','ч','ш','щ','ь','ю','я']\n",
    "\n",
    "\n",
    "with open('text.txt') as f:\n",
    "    lines = f.readlines()\n",
    "    \n",
    "text=' '.join(lines)"
   ]
  },
  {
   "cell_type": "code",
   "execution_count": 3,
   "metadata": {},
   "outputs": [],
   "source": [
    "\n",
    "text=text.lower()\n",
    "text = text.replace(\"ґ\", \"г\" )\n",
    "text = ''.join([i for i in text if i in alphabet])\n"
   ]
  },
  {
   "cell_type": "code",
   "execution_count": null,
   "metadata": {},
   "outputs": [],
   "source": [
    "#необхiдно розрахувати частоти лiтер i бiграм, а також ентропiю та iндекс вiдповiдностi.\n",
    "\n",
    "import math \n",
    "from collections import Counter\n",
    "counts=Counter(text)\n",
    "\n",
    "\n",
    "# print(counts)\n",
    "\n",
    "frequency_alphabet=pd.DataFrame(data=[counts])\n",
    "r, c=frequency_alphabet.shape\n",
    "frequency_alphabet.index=['Frequancy'] #,'Probability','Entrophy'\n",
    "frequency_alphabet=frequency_alphabet.sort_values(by = 'Frequancy', axis = 1, ascending = False)\n",
    "\n",
    "frequency_alphabet.loc[len(frequency_alphabet.index)]=frequency_alphabet/len(text)\n",
    "# frequency_alphabet.loc[len(frequency_alphabet.index)]=[frequency_alphabet[x]/len(text) for x in frequency_alphabet ]\n",
    "# frequency_alphabet.loc[len(frequency_alphabet.index)]=[ sum([frequency_alphabet[1][x]*math.log2(frequency_alphabet[1][x])]) for x  in frequency_alphabet]\n",
    "\n",
    "# frequency_alphabet.index=['Frequancy','Probability'] \n",
    "\n",
    "\n",
    "display(frequency_alphabet)\n",
    "\n",
    "# print([frequency_alphabet[i][1] for i in range(0,c)])\n"
   ]
  },
  {
   "cell_type": "code",
   "execution_count": null,
   "metadata": {},
   "outputs": [],
   "source": [
    "bigrams_dict = Counter(text[idx : idx + 2] for idx in range(len(text) - 1))\n",
    "# print(bigrams_dict)\n",
    "\n"
   ]
  },
  {
   "cell_type": "code",
   "execution_count": null,
   "metadata": {},
   "outputs": [],
   "source": [
    "alphabet_ordered=['о','а','и','н','в','і','т','е','р','л','с','к','у','д','м','п','з','я','б','й','г','ь','ч','х','ш','ю','ж','ц','ї','щ','є','ф']\n",
    "len(alphabet_ordered)\n",
    "\n",
    "bigrams_frequancy=pd.DataFrame(data=np.zeros((32,32)))\n",
    "\n",
    "bigrams_frequancy.index=alphabet_ordered\n",
    "bigrams_frequancy.columns=alphabet_ordered\n",
    "\n",
    "for i in alphabet_ordered:\n",
    "    for j in alphabet_ordered:\n",
    "        bigrams_frequancy[i][j]=bigrams_dict[i+j]\n",
    "\n",
    "bigrams_frequancy=bigrams_frequancy.transpose()\n",
    "display(bigrams_frequancy)\n",
    "#першим рядок вибирай а  тоді стовпчик\n"
   ]
  }
 ],
 "metadata": {
  "kernelspec": {
   "display_name": "Python 3.8.10 64-bit",
   "language": "python",
   "name": "python3"
  },
  "language_info": {
   "codemirror_mode": {
    "name": "ipython",
    "version": 3
   },
   "file_extension": ".py",
   "mimetype": "text/x-python",
   "name": "python",
   "nbconvert_exporter": "python",
   "pygments_lexer": "ipython3",
   "version": "3.8.10"
  },
  "orig_nbformat": 4,
  "vscode": {
   "interpreter": {
    "hash": "916dbcbb3f70747c44a77c7bcd40155683ae19c65e1c03b4aa3499c5328201f1"
   }
  }
 },
 "nbformat": 4,
 "nbformat_minor": 2
}
