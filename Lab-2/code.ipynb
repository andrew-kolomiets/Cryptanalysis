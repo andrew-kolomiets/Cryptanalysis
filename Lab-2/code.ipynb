{
 "cells": [
  {
   "cell_type": "code",
   "execution_count": 1,
   "metadata": {},
   "outputs": [],
   "source": [
    "import re\n",
    "import string\n",
    "import math \n",
    "import random\n",
    "import functools\n",
    "import pandas as pd\n",
    "import numpy as np\n",
    "from collections import Counter"
   ]
  },
  {
   "cell_type": "code",
   "execution_count": 2,
   "metadata": {},
   "outputs": [],
   "source": [
    "alphabet=['а','б','в','г','ґ','д','е','є','ж','з','и','і','ї','й','к','л','м','н','о','п','р','с','т','у','ф','х','ц','ч','ш','щ','ь','ю','я']\n",
    "\n",
    "with open('text.txt', encoding=\"utf8\") as f:\n",
    "    lines = f.readlines()\n",
    "    \n",
    "text=' '.join(lines)\n",
    "\n",
    "text=text.lower()\n",
    "\n",
    "text = text.replace(\"ґ\", \"г\" )\n",
    "\n",
    "text = ''.join([i for i in text if i in alphabet])\n",
    "\n",
    "alphabet=['а','б','в','г','д','е','є','ж','з','и','і','ї','й','к','л','м','н','о','п','р','с','т','у','ф','х','ц','ч','ш','щ','ь','ю','я']"
   ]
  },
  {
   "cell_type": "code",
   "execution_count": 7,
   "metadata": {},
   "outputs": [
    {
     "data": {
      "text/html": [
       "<div>\n",
       "<style scoped>\n",
       "    .dataframe tbody tr th:only-of-type {\n",
       "        vertical-align: middle;\n",
       "    }\n",
       "\n",
       "    .dataframe tbody tr th {\n",
       "        vertical-align: top;\n",
       "    }\n",
       "\n",
       "    .dataframe thead th {\n",
       "        text-align: right;\n",
       "    }\n",
       "</style>\n",
       "<table border=\"1\" class=\"dataframe\">\n",
       "  <thead>\n",
       "    <tr style=\"text-align: right;\">\n",
       "      <th></th>\n",
       "      <th>о</th>\n",
       "      <th>а</th>\n",
       "      <th>и</th>\n",
       "      <th>н</th>\n",
       "      <th>в</th>\n",
       "      <th>і</th>\n",
       "      <th>т</th>\n",
       "      <th>е</th>\n",
       "      <th>р</th>\n",
       "      <th>л</th>\n",
       "      <th>...</th>\n",
       "      <th>ч</th>\n",
       "      <th>х</th>\n",
       "      <th>ш</th>\n",
       "      <th>ю</th>\n",
       "      <th>ж</th>\n",
       "      <th>ц</th>\n",
       "      <th>ї</th>\n",
       "      <th>щ</th>\n",
       "      <th>є</th>\n",
       "      <th>ф</th>\n",
       "    </tr>\n",
       "  </thead>\n",
       "  <tbody>\n",
       "    <tr>\n",
       "      <th>Frequancy</th>\n",
       "      <td>46878</td>\n",
       "      <td>42163</td>\n",
       "      <td>32356</td>\n",
       "      <td>30683</td>\n",
       "      <td>28832</td>\n",
       "      <td>25865</td>\n",
       "      <td>22221</td>\n",
       "      <td>21895</td>\n",
       "      <td>21399</td>\n",
       "      <td>19696</td>\n",
       "      <td>...</td>\n",
       "      <td>6302</td>\n",
       "      <td>5494</td>\n",
       "      <td>4606</td>\n",
       "      <td>4510</td>\n",
       "      <td>4384</td>\n",
       "      <td>3719</td>\n",
       "      <td>3322</td>\n",
       "      <td>2464</td>\n",
       "      <td>2082</td>\n",
       "      <td>672</td>\n",
       "    </tr>\n",
       "  </tbody>\n",
       "</table>\n",
       "<p>1 rows × 32 columns</p>\n",
       "</div>"
      ],
      "text/plain": [
       "               о      а      и      н      в      і      т      е      р  \\\n",
       "Frequancy  46878  42163  32356  30683  28832  25865  22221  21895  21399   \n",
       "\n",
       "               л  ...     ч     х     ш     ю     ж     ц     ї     щ     є  \\\n",
       "Frequancy  19696  ...  6302  5494  4606  4510  4384  3719  3322  2464  2082   \n",
       "\n",
       "             ф  \n",
       "Frequancy  672  \n",
       "\n",
       "[1 rows x 32 columns]"
      ]
     },
     "metadata": {},
     "output_type": "display_data"
    }
   ],
   "source": [
    "counts=Counter(text)\n",
    "\n",
    "frequency_alphabet=pd.DataFrame(data=[counts],index=['Frequancy'] )\n",
    "\n",
    "frequency_alphabet=frequency_alphabet.sort_values(by = 'Frequancy', axis = 1, ascending = False)\n",
    "\n",
    "display(frequency_alphabet)\n"
   ]
  },
  {
   "cell_type": "code",
   "execution_count": 5,
   "metadata": {},
   "outputs": [],
   "source": [
    "bigrams_dict = Counter(text[idx : idx + 2] for idx in range(len(text) - 1))\n",
    "\n",
    "# Testing in ipython #######################################################\n",
    "# In [1]: from collections import Counter\n",
    "\n",
    "# In [2]: \n",
    "\n",
    "# In [2]: text='abcdef'\n",
    "\n",
    "# In [3]: bigrams_dict = Counter(text[idx : idx + 2] for idx in range(len(text) - 1))\n",
    "\n",
    "# In [4]: bigrams_dict\n",
    "\n",
    "# Out[4]: Counter({'ab': 1, 'bc': 1, 'cd': 1, 'de': 1, 'ef': 1})\n",
    "###########################################################################\n",
    "\n",
    "alphabet_ordered=['о','а','и','н','в','і','т','е','р','л','с','к','у','д','м','п','з','я','б','й','г','ь','ч','х','ш','ю','ж','ц','ї','щ','є','ф']\n",
    "\n",
    "bigrams_frequancy=pd.DataFrame(data=np.zeros((32,32)),index=alphabet_ordered,columns=alphabet_ordered)\n",
    "\n",
    "for i in alphabet_ordered:\n",
    "    for j in alphabet_ordered:\n",
    "        bigrams_frequancy[i][j]=bigrams_dict[i+j]\n",
    "\n",
    "bigrams_frequancy=bigrams_frequancy.transpose()\n",
    "\n",
    "display(bigrams_frequancy)  #першим рядок вибирай а  тоді стовпчик для біграми"
   ]
  },
  {
   "cell_type": "code",
   "execution_count": null,
   "metadata": {},
   "outputs": [],
   "source": [
    "I_mono=0\n",
    "H_mono=0\n",
    "result_mono = 0\n",
    "\n",
    "for  i in alphabet_ordered:\n",
    "    if (frequency_alphabet[i].to_numpy()[0]!= 0):\n",
    "        temp = 0\n",
    "        temp = float(frequency_alphabet[i].to_numpy()[0])/len(text)\n",
    "        result_mono = -temp * math.log2(temp) + result_mono\n",
    "        I_mono += frequency_alphabet[i].to_numpy()[0] * (frequency_alphabet[i].to_numpy()[0] - 1)\n",
    "    \n",
    "I_mono /= (len(text) * (len(text) - 1))\n",
    " \n",
    "H_mono=result_mono\n",
    "\n",
    "\n",
    "print('H_mono: ', H_mono)\n",
    "print('I_mono: ', I_mono)"
   ]
  },
  {
   "cell_type": "code",
   "execution_count": null,
   "metadata": {},
   "outputs": [],
   "source": [
    "I_bigram=0\n",
    "H_bigram=0         \n",
    "result_bigram=0\n",
    "\n",
    "for  i in alphabet_ordered:\n",
    "    for  j in alphabet_ordered:\n",
    "        if (bigrams_frequancy[i][j].astype(int) != 0):\n",
    "            temp = 0\n",
    "            temp = float(bigrams_frequancy[i][j].astype(int))/len(text)\n",
    "            result_bigram = -temp * math.log2(temp) + result_bigram\n",
    "            I_bigram += bigrams_frequancy[i][j].astype(int) * (bigrams_frequancy[i][j].astype(int) - 1)\n",
    "\n",
    "\n",
    "I_bigram = I_bigram/(len(text) * (len(text) - 1))\n",
    "\n",
    "H_bigram=result_bigram\n",
    "\n",
    "print('H_bigram: ', H_bigram)\n",
    "print('I_bigram: ', I_bigram)"
   ]
  },
  {
   "cell_type": "code",
   "execution_count": null,
   "metadata": {},
   "outputs": [],
   "source": [
    "def get_random_string_with_text(main_str, substr_len):\n",
    "    idx = random.randrange(0, len(main_str) - substr_len + 1) \n",
    "    return main_str[idx : (idx+substr_len)]"
   ]
  },
  {
   "cell_type": "code",
   "execution_count": 1,
   "metadata": {},
   "outputs": [
    {
     "ename": "NameError",
     "evalue": "name 'get_random_string_with_text' is not defined",
     "output_type": "error",
     "traceback": [
      "\u001b[0;31m---------------------------------------------------------------------------\u001b[0m",
      "\u001b[0;31mNameError\u001b[0m                                 Traceback (most recent call last)",
      "Cell \u001b[0;32mIn [1], line 12\u001b[0m\n\u001b[1;32m     10\u001b[0m temp\u001b[39m=\u001b[39m[]\n\u001b[1;32m     11\u001b[0m \u001b[39mwhile\u001b[39;00m \u001b[39mlen\u001b[39m(temp)\u001b[39m!=\u001b[39mtext_parametr_size[l]:\n\u001b[0;32m---> 12\u001b[0m     substr\u001b[39m=\u001b[39mget_random_string_with_text(text, l)\n\u001b[1;32m     13\u001b[0m     \u001b[39mif\u001b[39;00m(substr \u001b[39mnot\u001b[39;00m \u001b[39min\u001b[39;00m temp):\n\u001b[1;32m     14\u001b[0m         temp\u001b[39m.\u001b[39mappend(substr)\n",
      "\u001b[0;31mNameError\u001b[0m: name 'get_random_string_with_text' is not defined"
     ]
    }
   ],
   "source": [
    "input_text={}\n",
    "\n",
    "text_parametr_size={10:10000,100:10000,1000:10000,10000:1000} # L:N\n",
    "\n",
    "# for l in text_parametr_size:\n",
    "#     print(l,' ',text_parametr_size[l])\n",
    "\n",
    "for l in text_parametr_size:\n",
    "\n",
    "    temp=[]\n",
    "    while len(temp)!=text_parametr_size[l]:\n",
    "        substr=get_random_string_with_text(text, l)\n",
    "        if(substr not in temp):\n",
    "            temp.append(substr)\n",
    "\n",
    "    input_text[l]=temp # len:text:num_text using len()"
   ]
  },
  {
   "cell_type": "code",
   "execution_count": 2,
   "metadata": {},
   "outputs": [],
   "source": [
    "def vigener_cipher_mono(r,x):\n",
    "    x_chars=list(x)\n",
    "    x_num=np.array([alphabet.index(i) for i in x_chars])\n",
    "    key_num=np.array((random.sample(range(0, len(alphabet)),r)*len(x_num))[0:len(x)])\n",
    "    y_num=np.array(list(map(sum,zip(x_num,key_num))))%len(alphabet)\n",
    "    y_chars=''.join([alphabet[i] for i in y_num])\n",
    "    return y_chars"
   ]
  },
  {
   "cell_type": "code",
   "execution_count": null,
   "metadata": {},
   "outputs": [],
   "source": [
    "def vigener_cipher_bigram(r,x):\n",
    "    x_chars=[x[i:i + 2] for i in range(0, len(x), 2)]\n",
    "    x_num=np.array([(alphabet.index(list(i)[0])*len(alphabet)+alphabet.index(list(i)[1]))%(len(alphabet)*len(alphabet)) for i in x_chars])\n",
    "    key_num=np.array(((random.sample(range(0, len(alphabet)*len(alphabet)),r))*len(x_num))[0:(len(x)//2)])\n",
    "    y_num=np.array([ x_num[i]+key_num[i] for i in range(0,len(x_num))])%(len(alphabet)*len(alphabet))\n",
    "    y_chars=''.join([alphabet[i//len(alphabet)]+ alphabet[i%len(alphabet)] for i in y_num])\n",
    "    return y_chars"
   ]
  },
  {
   "cell_type": "code",
   "execution_count": null,
   "metadata": {},
   "outputs": [],
   "source": [
    "def affine_cipher_mono(r,x):\n",
    "    x_chars=list(x)\n",
    "    x_num=np.array([alphabet.index(i) for i in x_chars])\n",
    "    \n",
    "    y_num=[]\n",
    "    \n",
    "    for i in x_num:\n",
    "        a=b=0\n",
    "        while math.gcd(a,(len(alphabet)-1))!=1:\n",
    "            a=random.randint(0,(len(alphabet)-1))\n",
    "            b=random.randint(0,(len(alphabet)-1))\n",
    "        \n",
    "        y_num.append((a*i+b)%(len(alphabet)))\n",
    "    \n",
    "    y_chars=''.join([alphabet[i] for i in y_num])\n",
    "    \n",
    "    return y_chars"
   ]
  },
  {
   "cell_type": "code",
   "execution_count": null,
   "metadata": {},
   "outputs": [],
   "source": [
    "def affine_cipher_bigram(r,x):\n",
    "    x_chars=[x[i:i + 2] for i in range(0, len(x), 2)]\n",
    "    \n",
    "    x_num=np.array([ (alphabet.index(list(i)[0])*(len(alphabet)-1)+alphabet.index(list(i)[1]))%((len(alphabet)-1)*(len(alphabet)-1)) for i in x_chars])\n",
    "\n",
    "    y_num=[]\n",
    "    \n",
    "    for i in x_num:\n",
    "        a=b=0\n",
    "        while math.gcd(a,(len(alphabet)-1))!=1:\n",
    "            a=random.randint(0,(len(alphabet)-1)*(len(alphabet)-1))\n",
    "            b=random.randint(0,(len(alphabet)-1)*(len(alphabet)-1))\n",
    "        \n",
    "        y_num.append((a*i+b)%(len(alphabet)*len(alphabet)))\n",
    "    \n",
    "    y_chars=''.join([ alphabet[y_num[i]//(len(alphabet))]+alphabet[(y_num[i]%((len(alphabet)-1)))] for i in range(0,len(y_num))])\n",
    "    \n",
    "    return y_chars"
   ]
  }
 ],
 "metadata": {
  "kernelspec": {
   "display_name": "Python 3.8.10 64-bit",
   "language": "python",
   "name": "python3"
  },
  "language_info": {
   "codemirror_mode": {
    "name": "ipython",
    "version": 3
   },
   "file_extension": ".py",
   "mimetype": "text/x-python",
   "name": "python",
   "nbconvert_exporter": "python",
   "pygments_lexer": "ipython3",
   "version": "3.8.10"
  },
  "orig_nbformat": 4,
  "vscode": {
   "interpreter": {
    "hash": "916dbcbb3f70747c44a77c7bcd40155683ae19c65e1c03b4aa3499c5328201f1"
   }
  }
 },
 "nbformat": 4,
 "nbformat_minor": 2
}
