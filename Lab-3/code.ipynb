{
 "cells": [
  {
   "cell_type": "markdown",
   "metadata": {},
   "source": [
    "# Lab-3"
   ]
  },
  {
   "cell_type": "markdown",
   "metadata": {},
   "source": [
    "# Basic number theory algorithms"
   ]
  },
  {
   "cell_type": "code",
   "execution_count": 218,
   "metadata": {},
   "outputs": [],
   "source": [
    "def convert_to_binary_modify(number):\n",
    "\n",
    "    binary_representation=[]\n",
    "\n",
    "    while number>0:\n",
    "    \n",
    "        binary_representation.append(number & 1)\n",
    "        number = number >> 1\n",
    "    \n",
    "    return binary_representation\n"
   ]
  },
  {
   "cell_type": "code",
   "execution_count": 219,
   "metadata": {},
   "outputs": [],
   "source": [
    "def mod(number,module):\n",
    "\n",
    "\tnumb_by_module=0\n",
    "\n",
    "\tif (number < 0):\n",
    "\t\n",
    "\t\tif (number // module != 0):\n",
    "\t\t\n",
    "\t\t\tnumb_by_module = module - (abs(number) - module * (abs(number) // module))\n",
    "\t\t\n",
    "\t\telse:\n",
    "\t\t\n",
    "\t\t\tnumb_by_module = module - abs(number)\n",
    "\t\t\n",
    "\t\n",
    "\telif (number // module != 0):\n",
    "\t\n",
    "\t\tnumb_by_module = number - module * (number // module)\n",
    "\t\n",
    "\telse:\n",
    "\t\n",
    "\t\tnumb_by_module = number\n",
    "\t\n",
    "\n",
    "\treturn numb_by_module\n",
    "\n"
   ]
  },
  {
   "cell_type": "code",
   "execution_count": 220,
   "metadata": {},
   "outputs": [],
   "source": [
    "def gcd_extention( a, b): \n",
    "    q0=0\n",
    "    r0=0\n",
    "    r1=0\n",
    "    r2=0\n",
    "    u0=0\n",
    "    u1=0\n",
    "    u2=0\n",
    "\n",
    "    if ((a == 0) and (b ==  0)): \n",
    "        u = v = 0\n",
    "        return 0,u,v\n",
    "    \n",
    "    r2 = -a if (a < 0) else a\n",
    "\n",
    "    r1 = -b if(b <  0) else b\n",
    "\n",
    "    u2 = 1\n",
    "\n",
    "    u1 = 0\n",
    "\n",
    "    while (r1 != 0):\n",
    "    \n",
    "        q0 = r2 // r1\n",
    "        r0 = r2 - q0 * r1\n",
    "        r2 = r1\n",
    "        r1 = r0\n",
    "        u0 = u2 - q0 * u1\n",
    "        u2 = u1\n",
    "        u1 = u0\n",
    "    \n",
    "    u = u2\n",
    "\n",
    "    if (a <  0):\n",
    "        u = -(u)\n",
    "\n",
    "    v =  0 if(b ==  0) else (r2 -(u) * a)//b\n",
    "\n",
    "    return r2,u,v\n"
   ]
  },
  {
   "cell_type": "code",
   "execution_count": 221,
   "metadata": {},
   "outputs": [],
   "source": [
    "def inverted_element(number,moduls):\n",
    "\n",
    "\tnumber = mod(number, moduls)\n",
    "\n",
    "\tgcd,u,v=gcd_extention(number, moduls)\n",
    "\n",
    "\tif (gcd ==1):\n",
    "\t\n",
    "\t\tb0 = moduls\n",
    "\t\tt=0\n",
    "\t\tq=0\n",
    "\t\tx0 = 0\n",
    "\t\tx1 = 1\n",
    "\t\tif (moduls == 1):\n",
    "\t\t\treturn 1\n",
    "\t\twhile (number > 1):\n",
    "\t\t\tq = number // moduls\n",
    "\t\t\tt = moduls\n",
    "\t\t\tmoduls = number % moduls\n",
    "\t\t\tnumber = t\n",
    "\t\t\tt = x0\n",
    "\t\t\tx0 = x1 - q * x0\n",
    "\t\t\tx1 = t\n",
    "\t\t\n",
    "\t\tif (x1 < 0): x1 += b0\n",
    "\n",
    "\t\treturn x1\n",
    "\t\n",
    "\tif (gcd > 1):\n",
    "\t\n",
    "\t\treturn \"Roots more or does`t exist!\"\n",
    "\t\n"
   ]
  },
  {
   "cell_type": "code",
   "execution_count": 222,
   "metadata": {},
   "outputs": [],
   "source": [
    "def horner_method(number,degree,module):\n",
    "\n",
    "    binary_representation=convert_to_binary_modify(degree)\n",
    "\n",
    "    result = 1\n",
    "\n",
    "    for i in range(len(binary_representation)-1,-1,-1):\n",
    "    \n",
    "        result = (result * result) % module\n",
    "\n",
    "        if (binary_representation[i] == 1):\n",
    "        \n",
    "            result = (result * number) % module\n",
    "        \n",
    "    \n",
    "\n",
    "    return result\n"
   ]
  },
  {
   "cell_type": "code",
   "execution_count": 223,
   "metadata": {},
   "outputs": [],
   "source": [
    "def chines_remainder_theorem(a,m):\n",
    "\n",
    "    M = 1\n",
    "    x = 0\n",
    "\n",
    "    for i in range(0,len(m)):\n",
    "        M *= m[i]\n",
    "    \n",
    "       \n",
    "    for i in range(0,len(m)):\n",
    "\n",
    "        n = M // m[i]\n",
    "        u = inverted_element(n % m[i], m[i])\n",
    "        \n",
    "        x += n *u * a[i]\n",
    "    \n",
    "\n",
    "    x %= M\n",
    "\n",
    "    if (x < 0):\n",
    "        x += M\n",
    "    \n",
    "    general_module = M  \n",
    "\n",
    "    return x,general_module\n"
   ]
  },
  {
   "cell_type": "markdown",
   "metadata": {},
   "source": [
    "# Attack with small exponent applied on chines reminder theorem"
   ]
  },
  {
   "cell_type": "code",
   "execution_count": 224,
   "metadata": {},
   "outputs": [],
   "source": [
    "e = 3\n",
    "\n",
    "C1 =int(\"0x3115f665a5c62cfaeb9f3f0d2dfcfe8cafb4f90a005e20ea48d9b41607ef7188\",base=16)\n",
    "N1=int(\"0xEEB25A696A48E3DAAB70EC4C4BEF7C5998A07E465C90BD37F331F5BAA80011F9\",base=16)\n",
    "C2 =int(\"0x243f9d1059312b9daa01cae439cfdab7a4035364b04e5a993e43a68b79636b36\",base=16)\n",
    "N2 =int(\"0xAB5F12B623D023289CB3CAE70F1849808CE0C31F9733AD6F4AC2A5564DA84F2B\",base=16)\n",
    "C3 =int(\"0x20f6e6410982d39289cc4eacc04ea2ce8c853dece720f78e88963c5343c4659c\",base=16)\n",
    "N3 =int(\"0x9CBDBC7A89BB945021E1924C12A78122C0E0A7E8647AF5EDF9C47A9F021A5305\",base=16)"
   ]
  },
  {
   "cell_type": "code",
   "execution_count": 225,
   "metadata": {},
   "outputs": [
    {
     "data": {
      "text/plain": [
       "22202133938954375843346614053084447019170103886896172449344290820748085260680"
      ]
     },
     "execution_count": 225,
     "metadata": {},
     "output_type": "execute_result"
    }
   ],
   "source": [
    "C1"
   ]
  },
  {
   "cell_type": "code",
   "execution_count": 226,
   "metadata": {},
   "outputs": [],
   "source": [
    "x,general_module = chines_remainder_theorem([C1,C2,C3],[N1,N2,N3])"
   ]
  },
  {
   "cell_type": "code",
   "execution_count": 227,
   "metadata": {},
   "outputs": [
    {
     "data": {
      "text/plain": [
       "44125218104815898386247209166407765314394083745271945318076364289829068276115630296328267218157777265671054533549407754182863686419510155290410457059608290435142469249854696336135771044246717022207825658018396461132977"
      ]
     },
     "execution_count": 227,
     "metadata": {},
     "output_type": "execute_result"
    }
   ],
   "source": [
    "x"
   ]
  },
  {
   "cell_type": "code",
   "execution_count": 228,
   "metadata": {},
   "outputs": [
    {
     "data": {
      "text/plain": [
       "593313889622213826409958673492093976212725275872787606846018701036034457493748718491362759855713596132394686646895712927681554812581009969588944989289261752358334711132979307603323860886742956268321907131293547002663450714652914719"
      ]
     },
     "execution_count": 228,
     "metadata": {},
     "output_type": "execute_result"
    }
   ],
   "source": [
    "general_module"
   ]
  },
  {
   "cell_type": "code",
   "execution_count": 229,
   "metadata": {},
   "outputs": [],
   "source": [
    "# https://rosettacode.org/wiki/Nth_root#Python\n",
    "from decimal import Decimal, getcontext\n",
    "\n",
    "def nthroot (n, A, precision):\n",
    "    getcontext().prec = precision\n",
    "    \n",
    "    n = Decimal(n)\n",
    "    x_0 = A / n \n",
    "    x_1 = 1    \n",
    "    while True:\n",
    "        x_0, x_1 = x_1, (1 / n)*((n - 1)*x_0 + (A / (x_0 ** (n - 1))))\n",
    "        if x_0 == x_1:\n",
    "            return x_1"
   ]
  },
  {
   "cell_type": "code",
   "execution_count": 230,
   "metadata": {},
   "outputs": [
    {
     "data": {
      "text/plain": [
       "'0x1ffffffffffffffff00633b0b2351cfcaa22b6539734270284c1d497c7891'"
      ]
     },
     "execution_count": 230,
     "metadata": {},
     "output_type": "execute_result"
    }
   ],
   "source": [
    "hex(int(nthroot (3, x, 100)))"
   ]
  },
  {
   "cell_type": "code",
   "execution_count": 231,
   "metadata": {},
   "outputs": [
    {
     "data": {
      "text/plain": [
       "22202133938954375843346614053084447019170103886896172449344290820748085260680"
      ]
     },
     "execution_count": 231,
     "metadata": {},
     "output_type": "execute_result"
    }
   ],
   "source": [
    "pow(int(nthroot (3, x, 100)),e)%N1"
   ]
  },
  {
   "cell_type": "markdown",
   "metadata": {},
   "source": [
    "# Attack-in-the-Middle"
   ]
  },
  {
   "cell_type": "code",
   "execution_count": 232,
   "metadata": {},
   "outputs": [],
   "source": [
    "e = 65537\n",
    "l=20\n",
    "C = int(\"0x1c2d97c113dd3bf4a699efb30ef01d12fc7d6d815b5b71fa7cdff26791d444484a0dddfe2ea677c2ea8c0b0490b4da8612dd57c6282d64e08fc720573b4e0350\",base=16)\n",
    "N = int(\"0xA1BD21600C6EEE61B966343EFF6BA4D6C1F6F55A1C3440CF7C59DC31692C2CA4F2279F790FE6168B70B14D6F1C05DF799B47EF9B7E20F74E9022F7A8531CB2EF\",base=16)"
   ]
  },
  {
   "cell_type": "code",
   "execution_count": 233,
   "metadata": {},
   "outputs": [],
   "source": [
    "X=[[i,horner_method(i,e,N)] for i in range(1,pow(2,l//2))]"
   ]
  },
  {
   "cell_type": "code",
   "execution_count": 234,
   "metadata": {},
   "outputs": [],
   "source": [
    "C_s=[ (C*inverted_element(x[1],N))%N  for x in X]\n"
   ]
  },
  {
   "cell_type": "code",
   "execution_count": 235,
   "metadata": {},
   "outputs": [],
   "source": [
    "T_e=0\n",
    "C_S=0\n",
    "for i in range(0,len(C_s)):\n",
    "    triger=0\n",
    "    for j in range(0,len(X)):\n",
    "        if(C_s[i]==X[j][1]):\n",
    "            T_e=X[j][1]\n",
    "            C_S=C_s[i]\n",
    "            triger=1\n",
    "            break\n",
    "    if triger==1:\n",
    "        break\n",
    "    "
   ]
  },
  {
   "cell_type": "code",
   "execution_count": 236,
   "metadata": {},
   "outputs": [
    {
     "data": {
      "text/plain": [
       "7565166866184383558506287847300393126692790379748114247994067353546937333990494405135682633535366384389602668843006902626074057066146160260465288447385283"
      ]
     },
     "execution_count": 236,
     "metadata": {},
     "output_type": "execute_result"
    }
   ],
   "source": [
    "T_e"
   ]
  },
  {
   "cell_type": "code",
   "execution_count": 237,
   "metadata": {},
   "outputs": [
    {
     "data": {
      "text/plain": [
       "7565166866184383558506287847300393126692790379748114247994067353546937333990494405135682633535366384389602668843006902626074057066146160260465288447385283"
      ]
     },
     "execution_count": 237,
     "metadata": {},
     "output_type": "execute_result"
    }
   ],
   "source": [
    "C_S"
   ]
  },
  {
   "cell_type": "code",
   "execution_count": 238,
   "metadata": {},
   "outputs": [],
   "source": [
    "T=0\n",
    "for i in X:\n",
    "    if(i[1]==T_e):\n",
    "        T=i[0]\n",
    "        break\n",
    "\n",
    "S=0\n",
    "for i in X:\n",
    "    if((C*inverted_element(i[1],N))%N==C_S):\n",
    "        S=i[0]\n",
    "        break\n",
    "    "
   ]
  },
  {
   "cell_type": "code",
   "execution_count": 239,
   "metadata": {},
   "outputs": [
    {
     "data": {
      "text/plain": [
       "620535"
      ]
     },
     "execution_count": 239,
     "metadata": {},
     "output_type": "execute_result"
    }
   ],
   "source": [
    "(T*S)%N"
   ]
  },
  {
   "cell_type": "code",
   "execution_count": 240,
   "metadata": {},
   "outputs": [
    {
     "data": {
      "text/plain": [
       "'0x1c2d97c113dd3bf4a699efb30ef01d12fc7d6d815b5b71fa7cdff26791d444484a0dddfe2ea677c2ea8c0b0490b4da8612dd57c6282d64e08fc720573b4e0350'"
      ]
     },
     "execution_count": 240,
     "metadata": {},
     "output_type": "execute_result"
    }
   ],
   "source": [
    "import math\n",
    "hex(pow(T*S,e)%N)"
   ]
  },
  {
   "cell_type": "markdown",
   "metadata": {},
   "source": [
    "# Brute force"
   ]
  },
  {
   "cell_type": "code",
   "execution_count": 241,
   "metadata": {},
   "outputs": [],
   "source": [
    "text=0\n",
    "\n",
    "while(True):\n",
    "    \n",
    "    if(horner_method(text,e,N)==C):\n",
    "        break\n",
    "    \n",
    "    text+=1"
   ]
  },
  {
   "cell_type": "code",
   "execution_count": 242,
   "metadata": {},
   "outputs": [
    {
     "data": {
      "text/plain": [
       "620535"
      ]
     },
     "execution_count": 242,
     "metadata": {},
     "output_type": "execute_result"
    }
   ],
   "source": [
    "text"
   ]
  }
 ],
 "metadata": {
  "kernelspec": {
   "display_name": "Python 3.8.10 64-bit",
   "language": "python",
   "name": "python3"
  },
  "language_info": {
   "codemirror_mode": {
    "name": "ipython",
    "version": 3
   },
   "file_extension": ".py",
   "mimetype": "text/x-python",
   "name": "python",
   "nbconvert_exporter": "python",
   "pygments_lexer": "ipython3",
   "version": "3.8.10"
  },
  "orig_nbformat": 4,
  "vscode": {
   "interpreter": {
    "hash": "916dbcbb3f70747c44a77c7bcd40155683ae19c65e1c03b4aa3499c5328201f1"
   }
  }
 },
 "nbformat": 4,
 "nbformat_minor": 2
}
