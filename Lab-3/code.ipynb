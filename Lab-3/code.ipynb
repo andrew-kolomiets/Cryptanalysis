{
 "cells": [
  {
   "cell_type": "markdown",
   "metadata": {},
   "source": [
    "# Lab-3"
   ]
  },
  {
   "cell_type": "code",
   "execution_count": 245,
   "metadata": {},
   "outputs": [],
   "source": [
    "import math\n",
    "from decimal import Decimal, getcontext\n"
   ]
  },
  {
   "cell_type": "markdown",
   "metadata": {},
   "source": [
    "# Basic number theory algorithms"
   ]
  },
  {
   "cell_type": "code",
   "execution_count": 246,
   "metadata": {},
   "outputs": [],
   "source": [
    "def convert_to_binary_modify(number):\n",
    "\n",
    "    binary_representation=[]\n",
    "\n",
    "    while number>0:\n",
    "    \n",
    "        binary_representation.append(number & 1)\n",
    "        number = number >> 1\n",
    "    \n",
    "    return binary_representation\n"
   ]
  },
  {
   "cell_type": "code",
   "execution_count": 247,
   "metadata": {},
   "outputs": [],
   "source": [
    "def mod(number,module):\n",
    "\n",
    "\tnumb_by_module=0\n",
    "\n",
    "\tif (number < 0):\n",
    "\t\n",
    "\t\tif (number // module != 0):\n",
    "\t\t\n",
    "\t\t\tnumb_by_module = module - (abs(number) - module * (abs(number) // module))\n",
    "\t\t\n",
    "\t\telse:\n",
    "\t\t\n",
    "\t\t\tnumb_by_module = module - abs(number)\n",
    "\t\t\n",
    "\t\n",
    "\telif (number // module != 0):\n",
    "\t\n",
    "\t\tnumb_by_module = number - module * (number // module)\n",
    "\t\n",
    "\telse:\n",
    "\t\n",
    "\t\tnumb_by_module = number\n",
    "\t\n",
    "\n",
    "\treturn numb_by_module\n",
    "\n"
   ]
  },
  {
   "cell_type": "code",
   "execution_count": 248,
   "metadata": {},
   "outputs": [],
   "source": [
    "def gcd_extention( a, b): \n",
    "    q0=0\n",
    "    r0=0\n",
    "    r1=0\n",
    "    r2=0\n",
    "    u0=0\n",
    "    u1=0\n",
    "    u2=0\n",
    "\n",
    "    if ((a == 0) and (b ==  0)): \n",
    "        u = v = 0\n",
    "        return 0,u,v\n",
    "    \n",
    "    r2 = -a if (a < 0) else a\n",
    "\n",
    "    r1 = -b if(b <  0) else b\n",
    "\n",
    "    u2 = 1\n",
    "\n",
    "    u1 = 0\n",
    "\n",
    "    while (r1 != 0):\n",
    "    \n",
    "        q0 = r2 // r1\n",
    "        r0 = r2 - q0 * r1\n",
    "        r2 = r1\n",
    "        r1 = r0\n",
    "        u0 = u2 - q0 * u1\n",
    "        u2 = u1\n",
    "        u1 = u0\n",
    "    \n",
    "    u = u2\n",
    "\n",
    "    if (a <  0):\n",
    "        u = -(u)\n",
    "\n",
    "    v =  0 if(b ==  0) else (r2 -(u) * a)//b\n",
    "\n",
    "    return r2,u,v\n"
   ]
  },
  {
   "cell_type": "code",
   "execution_count": 249,
   "metadata": {},
   "outputs": [],
   "source": [
    "def inverted_element(number,moduls):\n",
    "\n",
    "\tnumber = mod(number, moduls)\n",
    "\n",
    "\tgcd,u,v=gcd_extention(number, moduls)\n",
    "\n",
    "\tif (gcd ==1):\n",
    "\t\n",
    "\t\tb0 = moduls\n",
    "\t\tt=0\n",
    "\t\tq=0\n",
    "\t\tx0 = 0\n",
    "\t\tx1 = 1\n",
    "\t\tif (moduls == 1):\n",
    "\t\t\treturn 1\n",
    "\t\twhile (number > 1):\n",
    "\t\t\tq = number // moduls\n",
    "\t\t\tt = moduls\n",
    "\t\t\tmoduls = number % moduls\n",
    "\t\t\tnumber = t\n",
    "\t\t\tt = x0\n",
    "\t\t\tx0 = x1 - q * x0\n",
    "\t\t\tx1 = t\n",
    "\t\t\n",
    "\t\tif (x1 < 0): x1 += b0\n",
    "\n",
    "\t\treturn x1\n",
    "\t\n",
    "\tif (gcd > 1):\n",
    "\t\n",
    "\t\treturn \"Roots more or does`t exist!\"\n",
    "\t\n"
   ]
  },
  {
   "cell_type": "code",
   "execution_count": 250,
   "metadata": {},
   "outputs": [],
   "source": [
    "def horner_method(number,degree,module):\n",
    "\n",
    "    binary_representation=convert_to_binary_modify(degree)\n",
    "\n",
    "    result = 1\n",
    "\n",
    "    for i in range(len(binary_representation)-1,-1,-1):\n",
    "    \n",
    "        result = (result * result) % module\n",
    "\n",
    "        if (binary_representation[i] == 1):\n",
    "        \n",
    "            result = (result * number) % module\n",
    "        \n",
    "    return result\n"
   ]
  },
  {
   "cell_type": "code",
   "execution_count": 251,
   "metadata": {},
   "outputs": [],
   "source": [
    "def chines_remainder_theorem(a,m):\n",
    "\n",
    "    M = 1\n",
    "    x = 0\n",
    "\n",
    "    for i in range(0,len(m)):\n",
    "        M *= m[i]\n",
    "    \n",
    "       \n",
    "    for i in range(0,len(m)):\n",
    "\n",
    "        n = M // m[i]\n",
    "        u = inverted_element(n % m[i], m[i])\n",
    "        \n",
    "        x += n *u * a[i]\n",
    "    \n",
    "\n",
    "    x %= M\n",
    "\n",
    "    if (x < 0):\n",
    "        x += M\n",
    "    \n",
    "    general_module = M  \n",
    "\n",
    "    return x,general_module\n"
   ]
  },
  {
   "cell_type": "code",
   "execution_count": 252,
   "metadata": {},
   "outputs": [],
   "source": [
    "def nthroot (n, A, precision):\n",
    "    getcontext().prec = precision\n",
    "    \n",
    "    n = Decimal(n)\n",
    "    x_0 = A / n \n",
    "    x_1 = 1    \n",
    "    while True:\n",
    "        x_0, x_1 = x_1, (1 / n)*((n - 1)*x_0 + (A / (x_0 ** (n - 1))))\n",
    "        if x_0 == x_1:\n",
    "            return x_1"
   ]
  },
  {
   "cell_type": "markdown",
   "metadata": {},
   "source": [
    "# Brute force"
   ]
  },
  {
   "cell_type": "code",
   "execution_count": 253,
   "metadata": {},
   "outputs": [],
   "source": [
    "def brute_force(cipher,exponent,module):\n",
    "    \n",
    "    text=0\n",
    "\n",
    "    cipher=int(cipher,base=16) \n",
    "    module=int(module,base=16) \n",
    "\n",
    "    while(True):\n",
    "        \n",
    "        if(horner_method(text,exponent,module)==cipher):\n",
    "            break\n",
    "        \n",
    "        text+=1\n",
    "\n",
    "    return text"
   ]
  },
  {
   "cell_type": "markdown",
   "metadata": {},
   "source": [
    "# Attack with small exponent applied on Сhines reminder theorem"
   ]
  },
  {
   "cell_type": "code",
   "execution_count": 254,
   "metadata": {},
   "outputs": [],
   "source": [
    "def attack_with_small_exponent(exponent,c_list,n_list):\n",
    "\n",
    "    c_list=[int(c,base=16) for c in c_list]\n",
    "    n_list=[int(n,base=16) for n in n_list]\n",
    "\n",
    "    x,general_module = chines_remainder_theorem(c_list,n_list)\n",
    "    \n",
    "    return hex(int(nthroot (exponent, x, 10000)))\n"
   ]
  },
  {
   "cell_type": "code",
   "execution_count": 255,
   "metadata": {},
   "outputs": [],
   "source": [
    "def check_result_attack_with_small_exponent(messages, exponent,n_list):\n",
    "\n",
    "    n_list=[int(n,base=16) for n in n_list]\n",
    "\n",
    "    for n in n_list:\n",
    "        print(hex(horner_method(messages,exponent,n)))\n"
   ]
  },
  {
   "cell_type": "code",
   "execution_count": 256,
   "metadata": {},
   "outputs": [],
   "source": [
    "e = 3\n",
    "C1 = \"0x3115f665a5c62cfaeb9f3f0d2dfcfe8cafb4f90a005e20ea48d9b41607ef7188\"\n",
    "N1 = \"0xEEB25A696A48E3DAAB70EC4C4BEF7C5998A07E465C90BD37F331F5BAA80011F9\"\n",
    "C2 = \"0x243f9d1059312b9daa01cae439cfdab7a4035364b04e5a993e43a68b79636b36\"\n",
    "N2 = \"0xAB5F12B623D023289CB3CAE70F1849808CE0C31F9733AD6F4AC2A5564DA84F2B\"\n",
    "C3 = \"0x20f6e6410982d39289cc4eacc04ea2ce8c853dece720f78e88963c5343c4659c\"\n",
    "N3 = \"0x9CBDBC7A89BB945021E1924C12A78122C0E0A7E8647AF5EDF9C47A9F021A5305\""
   ]
  },
  {
   "cell_type": "code",
   "execution_count": 257,
   "metadata": {},
   "outputs": [
    {
     "data": {
      "text/plain": [
       "'0x1ffffffffffffffff00633b0b2351cfcaa22b6539734270284c1d497c7891'"
      ]
     },
     "execution_count": 257,
     "metadata": {},
     "output_type": "execute_result"
    }
   ],
   "source": [
    "attack_with_small_exponent(e,[C1,C2,C3],[N1,N2,N3])"
   ]
  },
  {
   "cell_type": "code",
   "execution_count": 258,
   "metadata": {},
   "outputs": [
    {
     "name": "stdout",
     "output_type": "stream",
     "text": [
      "0x3115f665a5c62cfaeb9f3f0d2dfcfe8cafb4f90a005e20ea48d9b41607ef7188\n",
      "0x243f9d1059312b9daa01cae439cfdab7a4035364b04e5a993e43a68b79636b36\n",
      "0x20f6e6410982d39289cc4eacc04ea2ce8c853dece720f78e88963c5343c4659c\n"
     ]
    }
   ],
   "source": [
    "check_result_attack_with_small_exponent(int(attack_with_small_exponent(e,[C1,C2,C3],[N1,N2,N3]),base=16), e,[N1,N2,N3])"
   ]
  },
  {
   "cell_type": "code",
   "execution_count": 259,
   "metadata": {},
   "outputs": [],
   "source": [
    "e = 5\n",
    "C1 = \"0x6ccdb4011f5db8ef3f29f142a650e8708081a9ceeaf9d353266224737d0ca36b1422b0a3e361b922a0f32ee501d263ee73396f672b5f03d299e154fc6f26df78d8f9829a1f58659d1e22ef9237d323e280a08bbda490a3b9e97bf989f3187a82229b993841a648743e319f5c7904bf3f7932457b9f2648e360eefbb6a85e6764\"\n",
    "N1 = \"0xC50813768871D20E4FC91709C56928DF050BF4324073021770782E986CBBC4CC43B1FCF73A9D1F53E612F1D44644AFDB2E7317FC7B8B89ABB4F1CFA3708AA8D69C6A5D5F0226A0D14DB36F4E5A7C3E5D233A04F106EE945910AD36CA69391EFAC4BB36FC4BE6A1DAAD4DB8A30B5E8514164FC92F71CAB6A8AEDF4B7FE52038EF\"\n",
    "C2 = \"0x432051a354b60a8dd0310fbab2977bf760b7d4798ec913472af399d44da2349ccd3403fada1a3054d4c0c4d87d77a2334af0c090e0a86b3c0d5e4e251af71682547181a924b32c082db8180a09a421670660fe79f4a4563a1801f2c3f8f908b69a0f30be7cf91142ec98ca91797d2ad258447b0a09086fc7f1014d08081f4c46\"\n",
    "N2 = \"0xC630C3A7E71523F4AB5421DB6B36B391839EDDF7EEEF2421ECA9C791D7A248F3A9AEDA9B8A71E64064E862AE01EAA6DBE8AE1D10A921D95CC678CE7F59A70CEDEC59D20489AECD8E5C835F0079C65A69B662C76FB7722DD4CD04B70593FA87E0916F313D4644F63DB56FFA9C76549DB23F3B32C558F8A64701A357899D6FE23F\"\n",
    "C3 = \"0x7504e178dc9f193844be5ab5598353a341e415081ab4b84646cec00793ad4ca2a2cc20b8420c52d5967bae13dd6d249ccf6cc92ee5ecf49514bf3b974d6e65f616e97bc9bebc06ff4b2c7d9922424a498bc0ffbad975cbbdd1fea3d782588966b7e9c96a2ed3176ec726f43ce3e4de8c2e651011bb89b9b31b00f69ea51c08aa\"\n",
    "N3 = \"0xB6C30E7E05A427FC564903718759D30F811CE6567E95DCBC166E296F28E5CB7BB5CFDE535C6F1E22215ECD465FC4668940828F1DAA2D1E7817BB766A7FA2A75D11118FB14D961DBC27448B280FA56312BA57848087F83D653BA64D6CB8168D5F077A51E0E72B370181A7102BC6C3406AB6733499C6E4F0A920BB3A0A1D7C1D19\"\n",
    "C4 = \"0x51aecd5864868da0f27513887a3efd1ce135519a4044afc6306d3dc40fa404f3aa41916ee71b4b2cddd08fd997f1da6a66a55280f23761cb19aef76ac3d15123b10f26b2f876e0914995990b4bd69537f472d7f6e13c6b7099cd74111655443aaaa60510536d51ffb976c576f7716e29baecbcad72eeb173dc230656c279749a\"\n",
    "N4 = \"0xB2ACD8D627C83C60FFE9F413727872735E40905361B1F0C820806C272D92CFDEF39D18D174EEDEA91B9B2CCD396F1946A8FA93B8D7A4BECA0827BCDF71A8D93AEF433C45DE0E0F5374099D174F990FC4A7AE1561441E1FF3DD0D36034C35139B05881FB08DDF20F49B71DFF024739951C20D021875E4C954040A26BBD1A998EB\"\n",
    "C5 = \"0x3dc5192d8c63fdfd3e6c97d3ade9e3d40314ca3b01b2b05f6f5b825b668107fa8d113d237db9776e5560b6421b17a881a417b7d9e74101bb52289b683fb5bc0b19f5300817ba9ccbd213eb57c1e5a169a7b180c3d5df3616d13f15618c0feca4509a6b86946e91d97ac2ed17f4d3ee8cf6b085034043fb10689f49345585cccf\"\n",
    "N5 = \"0xA79394E5ED5219FA8D701B8F8EEA2628D811FD7B087C08B73F4497D9B19E2039B61B4AF3FADDC7B2A11DB4818C03D5FD9084DAB6AEEB7172371EB2CC5B571E463A2ED98D2AE3BC5C5D41201C909EABBC377AFCA98E4347E8275CD19C29F1AD7757C9829906A104B5ACD1A3ADBBBE1E29D991303EADDD5DAA46A89CEA73DA3C39\""
   ]
  },
  {
   "cell_type": "code",
   "execution_count": 260,
   "metadata": {},
   "outputs": [
    {
     "data": {
      "text/plain": [
       "'0x1ffffffffffffffff0061d1f637a844983fe9225ee597bc228c4f52a9eb482c86ccfc59e1d00b16d177320f95ba69e780760e4a91bfc57b807e18e2469c225e975e04a932ebb504137923aae00a7e36d81d54370e9aeb1edafe4b89d1f48d6d02572429a65df972b8754452b2319d0939bece01c11311d5c785a4951d5abc'"
      ]
     },
     "execution_count": 260,
     "metadata": {},
     "output_type": "execute_result"
    }
   ],
   "source": [
    "attack_with_small_exponent(e,[C1,C2,C3,C4,C5],[N1,N2,N3,N4,N5])"
   ]
  },
  {
   "cell_type": "code",
   "execution_count": 261,
   "metadata": {},
   "outputs": [
    {
     "name": "stdout",
     "output_type": "stream",
     "text": [
      "0x6ccdb4011f5db8ef3f29f142a650e8708081a9ceeaf9d353266224737d0ca36b1422b0a3e361b922a0f32ee501d263ee73396f672b5f03d299e154fc6f26df78d8f9829a1f58659d1e22ef9237d323e280a08bbda490a3b9e97bf989f3187a82229b993841a648743e319f5c7904bf3f7932457b9f2648e360eefbb6a85e6764\n",
      "0x432051a354b60a8dd0310fbab2977bf760b7d4798ec913472af399d44da2349ccd3403fada1a3054d4c0c4d87d77a2334af0c090e0a86b3c0d5e4e251af71682547181a924b32c082db8180a09a421670660fe79f4a4563a1801f2c3f8f908b69a0f30be7cf91142ec98ca91797d2ad258447b0a09086fc7f1014d08081f4c46\n",
      "0x7504e178dc9f193844be5ab5598353a341e415081ab4b84646cec00793ad4ca2a2cc20b8420c52d5967bae13dd6d249ccf6cc92ee5ecf49514bf3b974d6e65f616e97bc9bebc06ff4b2c7d9922424a498bc0ffbad975cbbdd1fea3d782588966b7e9c96a2ed3176ec726f43ce3e4de8c2e651011bb89b9b31b00f69ea51c08aa\n",
      "0x51aecd5864868da0f27513887a3efd1ce135519a4044afc6306d3dc40fa404f3aa41916ee71b4b2cddd08fd997f1da6a66a55280f23761cb19aef76ac3d15123b10f26b2f876e0914995990b4bd69537f472d7f6e13c6b7099cd74111655443aaaa60510536d51ffb976c576f7716e29baecbcad72eeb173dc230656c279749a\n",
      "0x3dc5192d8c63fdfd3e6c97d3ade9e3d40314ca3b01b2b05f6f5b825b668107fa8d113d237db9776e5560b6421b17a881a417b7d9e74101bb52289b683fb5bc0b19f5300817ba9ccbd213eb57c1e5a169a7b180c3d5df3616d13f15618c0feca4509a6b86946e91d97ac2ed17f4d3ee8cf6b085034043fb10689f49345585cccf\n"
     ]
    }
   ],
   "source": [
    "check_result_attack_with_small_exponent(int(attack_with_small_exponent(e,[C1,C2,C3,C4,C5],[N1,N2,N3,N4,N5]),base=16), e,[N1,N2,N3,N4,N5])"
   ]
  },
  {
   "cell_type": "markdown",
   "metadata": {},
   "source": [
    "# Attack-in-the-Middle"
   ]
  },
  {
   "cell_type": "code",
   "execution_count": 267,
   "metadata": {},
   "outputs": [],
   "source": [
    "def attack_in_the_middle(l,cipher,exponent,module):\n",
    "\n",
    "    cipher=int(cipher,base=16) \n",
    "    module=int(module,base=16) \n",
    "\n",
    "    X=[[i,horner_method(i,exponent,module)] for i in range(1,pow(2,l//2))]\n",
    "    C_s=[(cipher*inverted_element(x[1],module)) % module  for x in X]\n",
    "\n",
    "    T=0\n",
    "    S=0\n",
    "    T_e=0\n",
    "    C_S=0\n",
    "\n",
    "    for i in range(0,len(C_s)):\n",
    "\n",
    "        triger=0\n",
    "\n",
    "        for j in range(0,len(X)):\n",
    "\n",
    "            if(C_s[i]==X[j][1]):\n",
    "                T_e=X[j][1]\n",
    "                C_S=C_s[i]\n",
    "                triger=1\n",
    "                break\n",
    "\n",
    "        if triger==1:\n",
    "            break\n",
    "\n",
    "    for i in X:\n",
    "        if(i[1]==T_e):\n",
    "            T=i[0]\n",
    "            break\n",
    "\n",
    "    for i in X:\n",
    "        if((cipher*inverted_element(i[1],module))%module==C_S):\n",
    "            S=i[0]\n",
    "            break\n",
    "\n",
    "    return (T*S)%module\n",
    "        "
   ]
  },
  {
   "cell_type": "code",
   "execution_count": 271,
   "metadata": {},
   "outputs": [],
   "source": [
    "def check_result_attack_in_the_middle(messages,expenent,modules):\n",
    "    modules=int(modules,base=16) \n",
    "    return hex(horner_method(messages,expenent,modules))"
   ]
  },
  {
   "cell_type": "code",
   "execution_count": 272,
   "metadata": {},
   "outputs": [],
   "source": [
    "e = 65537\n",
    "l=20\n",
    "C = \"0x1c2d97c113dd3bf4a699efb30ef01d12fc7d6d815b5b71fa7cdff26791d444484a0dddfe2ea677c2ea8c0b0490b4da8612dd57c6282d64e08fc720573b4e0350\"\n",
    "N = \"0xA1BD21600C6EEE61B966343EFF6BA4D6C1F6F55A1C3440CF7C59DC31692C2CA4F2279F790FE6168B70B14D6F1C05DF799B47EF9B7E20F74E9022F7A8531CB2EF\""
   ]
  },
  {
   "cell_type": "code",
   "execution_count": 273,
   "metadata": {},
   "outputs": [
    {
     "data": {
      "text/plain": [
       "620535"
      ]
     },
     "execution_count": 273,
     "metadata": {},
     "output_type": "execute_result"
    }
   ],
   "source": [
    "attack_in_the_middle(l,C,e,N)"
   ]
  },
  {
   "cell_type": "code",
   "execution_count": 274,
   "metadata": {},
   "outputs": [
    {
     "data": {
      "text/plain": [
       "'0x1c2d97c113dd3bf4a699efb30ef01d12fc7d6d815b5b71fa7cdff26791d444484a0dddfe2ea677c2ea8c0b0490b4da8612dd57c6282d64e08fc720573b4e0350'"
      ]
     },
     "execution_count": 274,
     "metadata": {},
     "output_type": "execute_result"
    }
   ],
   "source": [
    "check_result_attack_in_the_middle(attack_in_the_middle(l,C,e,N),e,N)"
   ]
  },
  {
   "cell_type": "code",
   "execution_count": 275,
   "metadata": {},
   "outputs": [
    {
     "data": {
      "text/plain": [
       "620535"
      ]
     },
     "execution_count": 275,
     "metadata": {},
     "output_type": "execute_result"
    }
   ],
   "source": [
    "brute_force(C,e,N)"
   ]
  },
  {
   "cell_type": "code",
   "execution_count": 276,
   "metadata": {},
   "outputs": [],
   "source": [
    "e = 65537\n",
    "l=20\n",
    "C = \"0x366cf825d6dc4cb7c629722701d8e64bc48a4dadadacc7965b5869dd6ecb3cd3fd47b387180b75fa86b2f35a90900a1b3ad5b5e4e82cd25891acbb2ab8562cca4e2d273ba289b47fe0e5db0cd34533932af39af990a7c9e3771046e363a84d8dc1023ac11f5e054164eba29f2dd0179b0b692cba4d763bb9b03a438fab671fb57c2a61b60d9f39a9bf03c6ff3c9632055f162dbcd9489bd8ef508a7ec1c961f60f86af7b36e67c4cbfde300de35a77e8f455616fbcf46d37236939772d1d62450a25af249a8d66f1f4ed90090cc63b3ef1ace7850dd06dafc247ab869a26cb987e7ba6b2833e48407c0365f631880324e3e0f10f3db434e7c41ef4b99bbe5bcc\"\n",
    "N = \"0xB6DBAF4C7C1405E3F82D73A3F4B12661207066620BAAB6394DAF8225475F3E4D69FF84F540F124460991DEA35417D47A493CDF3A8F3AE9D061BA64F72776601EC240F99049AE9C1B8B04A353AEBC91961DE8D8262497DC9530BD778A62BCF8567C09C5FE01218F34891570C0F0921D4B9EA74B4C1299E556EDAEB3D4DA12AA0A2A6F024B2C6217706C4B7409AB03380E5034EC3D112961EBACE13C8DE7EC1D1338C8157059DA0A8A3BA586BF395C6D8F1577D64906CBAE604373D47F392AF50836E3A726EF6EF3D670A4B85BBABDD217310F92A2DBC500EE58F7D23D389786203F1BDE252BA706CAD6381886FAA83B15B16439160AB52C7E99F0226F6535926F\""
   ]
  },
  {
   "cell_type": "code",
   "execution_count": 277,
   "metadata": {},
   "outputs": [
    {
     "data": {
      "text/plain": [
       "967415"
      ]
     },
     "execution_count": 277,
     "metadata": {},
     "output_type": "execute_result"
    }
   ],
   "source": [
    "attack_in_the_middle(l,C,e,N)"
   ]
  },
  {
   "cell_type": "code",
   "execution_count": 278,
   "metadata": {},
   "outputs": [
    {
     "data": {
      "text/plain": [
       "'0x366cf825d6dc4cb7c629722701d8e64bc48a4dadadacc7965b5869dd6ecb3cd3fd47b387180b75fa86b2f35a90900a1b3ad5b5e4e82cd25891acbb2ab8562cca4e2d273ba289b47fe0e5db0cd34533932af39af990a7c9e3771046e363a84d8dc1023ac11f5e054164eba29f2dd0179b0b692cba4d763bb9b03a438fab671fb57c2a61b60d9f39a9bf03c6ff3c9632055f162dbcd9489bd8ef508a7ec1c961f60f86af7b36e67c4cbfde300de35a77e8f455616fbcf46d37236939772d1d62450a25af249a8d66f1f4ed90090cc63b3ef1ace7850dd06dafc247ab869a26cb987e7ba6b2833e48407c0365f631880324e3e0f10f3db434e7c41ef4b99bbe5bcc'"
      ]
     },
     "execution_count": 278,
     "metadata": {},
     "output_type": "execute_result"
    }
   ],
   "source": [
    "check_result_attack_in_the_middle(attack_in_the_middle(l,C,e,N),e,N)"
   ]
  },
  {
   "cell_type": "code",
   "execution_count": 279,
   "metadata": {},
   "outputs": [
    {
     "data": {
      "text/plain": [
       "967415"
      ]
     },
     "execution_count": 279,
     "metadata": {},
     "output_type": "execute_result"
    }
   ],
   "source": [
    "brute_force(C,e,N)"
   ]
  },
  {
   "cell_type": "markdown",
   "metadata": {},
   "source": [
    "# Sources:\n",
    "\n",
    "https://rosettacode.org/wiki/Nth_root#Python\n"
   ]
  }
 ],
 "metadata": {
  "kernelspec": {
   "display_name": "Python 3.8.10 64-bit",
   "language": "python",
   "name": "python3"
  },
  "language_info": {
   "codemirror_mode": {
    "name": "ipython",
    "version": 3
   },
   "file_extension": ".py",
   "mimetype": "text/x-python",
   "name": "python",
   "nbconvert_exporter": "python",
   "pygments_lexer": "ipython3",
   "version": "3.8.10"
  },
  "orig_nbformat": 4,
  "vscode": {
   "interpreter": {
    "hash": "916dbcbb3f70747c44a77c7bcd40155683ae19c65e1c03b4aa3499c5328201f1"
   }
  }
 },
 "nbformat": 4,
 "nbformat_minor": 2
}
