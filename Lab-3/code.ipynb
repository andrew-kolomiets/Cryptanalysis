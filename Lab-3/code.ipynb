{
 "cells": [
  {
   "cell_type": "markdown",
   "metadata": {},
   "source": [
    "# Lab-3"
   ]
  },
  {
   "cell_type": "code",
   "execution_count": 82,
   "metadata": {},
   "outputs": [],
   "source": [
    "import math\n",
    "from decimal import Decimal, getcontext\n"
   ]
  },
  {
   "cell_type": "markdown",
   "metadata": {},
   "source": [
    "# Basic number theory algorithms"
   ]
  },
  {
   "cell_type": "code",
   "execution_count": 83,
   "metadata": {},
   "outputs": [],
   "source": [
    "def convert_to_binary_modify(number):\n",
    "\n",
    "    binary_representation=[]\n",
    "\n",
    "    while number>0:\n",
    "    \n",
    "        binary_representation.append(number & 1)\n",
    "        number = number >> 1\n",
    "    \n",
    "    return binary_representation\n"
   ]
  },
  {
   "cell_type": "code",
   "execution_count": 84,
   "metadata": {},
   "outputs": [],
   "source": [
    "def mod(number,module):\n",
    "\n",
    "\tnumb_by_module=0\n",
    "\n",
    "\tif (number < 0):\n",
    "\t\n",
    "\t\tif (number // module != 0):\n",
    "\t\t\n",
    "\t\t\tnumb_by_module = module - (abs(number) - module * (abs(number) // module))\n",
    "\t\t\n",
    "\t\telse:\n",
    "\t\t\n",
    "\t\t\tnumb_by_module = module - abs(number)\n",
    "\t\t\n",
    "\t\n",
    "\telif (number // module != 0):\n",
    "\t\n",
    "\t\tnumb_by_module = number - module * (number // module)\n",
    "\t\n",
    "\telse:\n",
    "\t\n",
    "\t\tnumb_by_module = number\n",
    "\t\n",
    "\n",
    "\treturn numb_by_module\n",
    "\n"
   ]
  },
  {
   "cell_type": "code",
   "execution_count": 85,
   "metadata": {},
   "outputs": [],
   "source": [
    "def gcd_extention( a, b): \n",
    "    q0=0\n",
    "    r0=0\n",
    "    r1=0\n",
    "    r2=0\n",
    "    u0=0\n",
    "    u1=0\n",
    "    u2=0\n",
    "\n",
    "    if ((a == 0) and (b ==  0)): \n",
    "        u = v = 0\n",
    "        return 0,u,v\n",
    "    \n",
    "    r2 = -a if (a < 0) else a\n",
    "\n",
    "    r1 = -b if(b <  0) else b\n",
    "\n",
    "    u2 = 1\n",
    "\n",
    "    u1 = 0\n",
    "\n",
    "    while (r1 != 0):\n",
    "    \n",
    "        q0 = r2 // r1\n",
    "        r0 = r2 - q0 * r1\n",
    "        r2 = r1\n",
    "        r1 = r0\n",
    "        u0 = u2 - q0 * u1\n",
    "        u2 = u1\n",
    "        u1 = u0\n",
    "    \n",
    "    u = u2\n",
    "\n",
    "    if (a <  0):\n",
    "        u = -(u)\n",
    "\n",
    "    v =  0 if(b ==  0) else (r2 -(u) * a)//b\n",
    "\n",
    "    return r2,u,v\n"
   ]
  },
  {
   "cell_type": "code",
   "execution_count": 86,
   "metadata": {},
   "outputs": [],
   "source": [
    "def inverted_element(number,moduls):\n",
    "\n",
    "\tnumber = mod(number, moduls)\n",
    "\n",
    "\tgcd,u,v=gcd_extention(number, moduls)\n",
    "\n",
    "\tif (gcd ==1):\n",
    "\t\n",
    "\t\tb0 = moduls\n",
    "\t\tt=0\n",
    "\t\tq=0\n",
    "\t\tx0 = 0\n",
    "\t\tx1 = 1\n",
    "\t\tif (moduls == 1):\n",
    "\t\t\treturn 1\n",
    "\t\twhile (number > 1):\n",
    "\t\t\tq = number // moduls\n",
    "\t\t\tt = moduls\n",
    "\t\t\tmoduls = number % moduls\n",
    "\t\t\tnumber = t\n",
    "\t\t\tt = x0\n",
    "\t\t\tx0 = x1 - q * x0\n",
    "\t\t\tx1 = t\n",
    "\t\t\n",
    "\t\tif (x1 < 0): x1 += b0\n",
    "\n",
    "\t\treturn x1\n",
    "\t\n",
    "\tif (gcd > 1):\n",
    "\t\n",
    "\t\treturn \"Roots more or does`t exist!\"\n",
    "\t\n"
   ]
  },
  {
   "cell_type": "code",
   "execution_count": 87,
   "metadata": {},
   "outputs": [],
   "source": [
    "def horner_method(number,degree,module):\n",
    "\n",
    "    binary_representation=convert_to_binary_modify(degree)\n",
    "\n",
    "    result = 1\n",
    "\n",
    "    for i in range(len(binary_representation)-1,-1,-1):\n",
    "    \n",
    "        result = (result * result) % module\n",
    "\n",
    "        if (binary_representation[i] == 1):\n",
    "        \n",
    "            result = (result * number) % module\n",
    "        \n",
    "    return result\n"
   ]
  },
  {
   "cell_type": "code",
   "execution_count": 88,
   "metadata": {},
   "outputs": [],
   "source": [
    "def chines_remainder_theorem(a,m):\n",
    "\n",
    "    M = 1\n",
    "    x = 0\n",
    "\n",
    "    for i in range(0,len(m)):\n",
    "        M *= m[i]\n",
    "    \n",
    "       \n",
    "    for i in range(0,len(m)):\n",
    "\n",
    "        n = M // m[i]\n",
    "        u = inverted_element(n % m[i], m[i])\n",
    "        \n",
    "        x += n *u * a[i]\n",
    "    \n",
    "\n",
    "    x %= M\n",
    "\n",
    "    if (x < 0):\n",
    "        x += M\n",
    "    \n",
    "    general_module = M  \n",
    "\n",
    "    return x,general_module\n"
   ]
  },
  {
   "cell_type": "code",
   "execution_count": 89,
   "metadata": {},
   "outputs": [],
   "source": [
    "def nthroot (n, A, precision):\n",
    "    getcontext().prec = precision\n",
    "    \n",
    "    n = Decimal(n)\n",
    "    x_0 = A / n \n",
    "    x_1 = 1    \n",
    "    while True:\n",
    "        x_0, x_1 = x_1, (1 / n)*((n - 1)*x_0 + (A / (x_0 ** (n - 1))))\n",
    "        if x_0 == x_1:\n",
    "            return x_1"
   ]
  },
  {
   "cell_type": "markdown",
   "metadata": {},
   "source": [
    "# Attack with small exponent applied on Сhines reminder theorem"
   ]
  },
  {
   "cell_type": "code",
   "execution_count": 90,
   "metadata": {},
   "outputs": [],
   "source": [
    "e = 3\n",
    "C1 = \"0x3115f665a5c62cfaeb9f3f0d2dfcfe8cafb4f90a005e20ea48d9b41607ef7188\"\n",
    "N1 = \"0xEEB25A696A48E3DAAB70EC4C4BEF7C5998A07E465C90BD37F331F5BAA80011F9\"\n",
    "C2 = \"0x243f9d1059312b9daa01cae439cfdab7a4035364b04e5a993e43a68b79636b36\"\n",
    "N2 = \"0xAB5F12B623D023289CB3CAE70F1849808CE0C31F9733AD6F4AC2A5564DA84F2B\"\n",
    "C3 = \"0x20f6e6410982d39289cc4eacc04ea2ce8c853dece720f78e88963c5343c4659c\"\n",
    "N3 = \"0x9CBDBC7A89BB945021E1924C12A78122C0E0A7E8647AF5EDF9C47A9F021A5305\""
   ]
  },
  {
   "cell_type": "code",
   "execution_count": 91,
   "metadata": {},
   "outputs": [],
   "source": [
    "def attack_with_small_exponent(c_list,n_list):\n",
    "\n",
    "    c_list=[int(c,base=16) for c in c_list]\n",
    "    n_list=[int(n,base=16) for n in n_list]\n",
    "\n",
    "    x,general_module = chines_remainder_theorem(c_list,n_list)\n",
    "    \n",
    "    return hex(int(nthroot (3, x, 100)))\n"
   ]
  },
  {
   "cell_type": "code",
   "execution_count": 92,
   "metadata": {},
   "outputs": [
    {
     "data": {
      "text/plain": [
       "'0x1ffffffffffffffff00633b0b2351cfcaa22b6539734270284c1d497c7891'"
      ]
     },
     "execution_count": 92,
     "metadata": {},
     "output_type": "execute_result"
    }
   ],
   "source": [
    "attack_with_small_exponent([C1,C2,C3],[N1,N2,N3])"
   ]
  },
  {
   "cell_type": "markdown",
   "metadata": {},
   "source": [
    "# Attack-in-the-Middle"
   ]
  },
  {
   "cell_type": "code",
   "execution_count": 93,
   "metadata": {},
   "outputs": [],
   "source": [
    "e = 65537\n",
    "l=20\n",
    "C = \"0x1c2d97c113dd3bf4a699efb30ef01d12fc7d6d815b5b71fa7cdff26791d444484a0dddfe2ea677c2ea8c0b0490b4da8612dd57c6282d64e08fc720573b4e0350\"\n",
    "N = \"0xA1BD21600C6EEE61B966343EFF6BA4D6C1F6F55A1C3440CF7C59DC31692C2CA4F2279F790FE6168B70B14D6F1C05DF799B47EF9B7E20F74E9022F7A8531CB2EF\""
   ]
  },
  {
   "cell_type": "code",
   "execution_count": 94,
   "metadata": {},
   "outputs": [],
   "source": [
    "def attack_in_the_middle(l,cipher,exponent,module):\n",
    "\n",
    "    cipher=int(cipher,base=16) \n",
    "    module=int(module,base=16) \n",
    "\n",
    "    X=[[i,horner_method(i,exponent,module)] for i in range(1,pow(2,l//2))]\n",
    "    C_s=[(cipher*inverted_element(x[1],module)) % module  for x in X]\n",
    "\n",
    "    T=0\n",
    "    S=0\n",
    "    T_e=0\n",
    "    C_S=0\n",
    "\n",
    "    for i in range(0,len(C_s)):\n",
    "\n",
    "        triger=0\n",
    "\n",
    "        for j in range(0,len(X)):\n",
    "\n",
    "            if(C_s[i]==X[j][1]):\n",
    "                T_e=X[j][1]\n",
    "                C_S=C_s[i]\n",
    "                triger=1\n",
    "                break\n",
    "\n",
    "        if triger==1:\n",
    "            break\n",
    "\n",
    "    for i in X:\n",
    "        if(i[1]==T_e):\n",
    "            T=i[0]\n",
    "            break\n",
    "\n",
    "    for i in X:\n",
    "        if((cipher*inverted_element(i[1],module))%module==C_S):\n",
    "            S=i[0]\n",
    "            break\n",
    "\n",
    "    return (T*S)%module\n",
    "        "
   ]
  },
  {
   "cell_type": "code",
   "execution_count": 95,
   "metadata": {},
   "outputs": [
    {
     "data": {
      "text/plain": [
       "620535"
      ]
     },
     "execution_count": 95,
     "metadata": {},
     "output_type": "execute_result"
    }
   ],
   "source": [
    "attack_in_the_middle(l,C,e,N)"
   ]
  },
  {
   "cell_type": "markdown",
   "metadata": {},
   "source": [
    "# Brute force"
   ]
  },
  {
   "cell_type": "code",
   "execution_count": 96,
   "metadata": {},
   "outputs": [],
   "source": [
    "def brute_force(cipher,exponent,module):\n",
    "    \n",
    "    text=0\n",
    "\n",
    "    cipher=int(cipher,base=16) \n",
    "    module=int(module,base=16) \n",
    "\n",
    "    while(True):\n",
    "        \n",
    "        if(horner_method(text,exponent,module)==cipher):\n",
    "            break\n",
    "        \n",
    "        text+=1\n",
    "\n",
    "    return text"
   ]
  },
  {
   "cell_type": "code",
   "execution_count": 97,
   "metadata": {},
   "outputs": [
    {
     "data": {
      "text/plain": [
       "620535"
      ]
     },
     "execution_count": 97,
     "metadata": {},
     "output_type": "execute_result"
    }
   ],
   "source": [
    "brute_force(C,e,N)"
   ]
  },
  {
   "cell_type": "markdown",
   "metadata": {},
   "source": [
    "# Sources:\n",
    "\n",
    "https://rosettacode.org/wiki/Nth_root#Python\n"
   ]
  }
 ],
 "metadata": {
  "kernelspec": {
   "display_name": "Python 3.8.10 64-bit",
   "language": "python",
   "name": "python3"
  },
  "language_info": {
   "codemirror_mode": {
    "name": "ipython",
    "version": 3
   },
   "file_extension": ".py",
   "mimetype": "text/x-python",
   "name": "python",
   "nbconvert_exporter": "python",
   "pygments_lexer": "ipython3",
   "version": "3.8.10"
  },
  "orig_nbformat": 4,
  "vscode": {
   "interpreter": {
    "hash": "916dbcbb3f70747c44a77c7bcd40155683ae19c65e1c03b4aa3499c5328201f1"
   }
  }
 },
 "nbformat": 4,
 "nbformat_minor": 2
}
